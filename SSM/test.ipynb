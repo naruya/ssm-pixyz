{
 "cells": [
  {
   "cell_type": "code",
   "execution_count": 1,
   "metadata": {},
   "outputs": [],
   "source": [
    "from config import *\n",
    "args = get_args(args=\"--s_dims 64 --min_stddev 1e-5 --epochs 1 --load_name 20200430_001618 --load_epoch 1601 --device_ids None\".split(), jupyter=True)\n",
    "args.device_ids = []"
   ]
  },
  {
   "cell_type": "code",
   "execution_count": 2,
   "metadata": {},
   "outputs": [
    {
     "name": "stdout",
     "output_type": "stream",
     "text": [
      "\u001b[0m\u001b[01;34m20200430_001618\u001b[0m/  \u001b[01;34m20200501_163521\u001b[0m/\n"
     ]
    }
   ],
   "source": [
    "ls models"
   ]
  },
  {
   "cell_type": "code",
   "execution_count": 3,
   "metadata": {},
   "outputs": [
    {
     "data": {
      "text/plain": [
       "Namespace(B=256, T=10, a_dim=4, comment=None, data_dir='~/tensorflow_datasets/', debug=False, device=0, device_ids=[], epochs=1, gamma=1e-05, h_dim=1024, load=True, load_dir='./models/20200430_001618', load_epoch=1601, load_name='20200430_001618', log_dir='./runs/20200502_155943', logfile='./logzero/20200502_155943.txt', loglevel=20, logzero_dir='./logzero/', min_stddev=1e-05, model='SSM', models_dir='./models/', name='20200502_155943', resnet=False, resume=False, runs_dir='./runs/', s_dims=[64], save_dir='./models/20200502_155943', seed=0, static_hierarchy=[])"
      ]
     },
     "execution_count": 3,
     "metadata": {},
     "output_type": "execute_result"
    }
   ],
   "source": [
    "args"
   ]
  },
  {
   "cell_type": "code",
   "execution_count": 37,
   "metadata": {},
   "outputs": [],
   "source": [
    "from config import *\n",
    "from model import *\n",
    "from utils import *\n",
    "from data_loader import PushDataLoader\n",
    "from torch.utils.tensorboard import SummaryWriter\n",
    "import torch\n",
    "import logzero\n",
    "\n",
    "logzero.loglevel(args.loglevel)\n",
    "\n",
    "SEED = args.seed\n",
    "torch.manual_seed(SEED)\n",
    "torch.cuda.manual_seed(SEED)\n",
    "torch.backends.cudnn.deterministic = True\n",
    "torch.autograd.set_detect_anomaly(True)\n",
    "\n",
    "model = globals()[args.model](args)\n",
    "\n",
    "train_loader = PushDataLoader(args, split=\"train\", shuffle=True)\n",
    "test_loader = PushDataLoader(args, split=\"test\", shuffle=False)\n",
    "\n",
    "if args.load or args.resume:\n",
    "    load_model(model, args.load_dir, args.load_epoch, load_optim=args.resume)\n",
    "\n",
    "for i, batch in enumerate(test_loader):\n",
    "    x, a, itr = batch\n",
    "    _B = x.size(0)\n",
    "    x = x.transpose(0, 1).to(args.device)  # T,B,3,28,28\n",
    "    a = a.transpose(0, 1).to(args.device)  # T,B,1\n",
    "    x_0 = x[0].clone()\n",
    "    x_ = model.sample_x(x_0, x, a)"
   ]
  },
  {
   "cell_type": "code",
   "execution_count": 34,
   "metadata": {},
   "outputs": [
    {
     "name": "stderr",
     "output_type": "stream",
     "text": [
      "t:   0%|          | 0/10 [00:00<?, ?it/s, now=None]"
     ]
    },
    {
     "name": "stdout",
     "output_type": "stream",
     "text": [
      "MoviePy - Building file sample.gif with imageio.\n"
     ]
    },
    {
     "name": "stderr",
     "output_type": "stream",
     "text": [
      "                                                            \r"
     ]
    }
   ],
   "source": [
    "import matplotlib.pyplot as plt\n",
    "import numpy as np\n",
    "import moviepy.editor as mpy\n",
    "\n",
    "\n",
    "def npy_to_gif(npy, filename):\n",
    "    clip = mpy.ImageSequenceClip(list(npy), fps=10)\n",
    "    clip.write_gif(filename)\n",
    "\n",
    "x_true = []\n",
    "for i in range(8):\n",
    "    xx = x_[0+i][:].detach().cpu().numpy().transpose([0,2,3,1])\n",
    "    xx = (xx * 255).astype(np.uint8)\n",
    "    x_true.append(xx)\n",
    "\n",
    "x_true = np.concatenate(x_true, 2)\n",
    "\n",
    "x_pred = []\n",
    "for i in range(8):\n",
    "    xx = x_[8+i][:].detach().cpu().numpy().transpose([0,2,3,1])\n",
    "    xx = (xx * 255).astype(np.uint8)\n",
    "    x_pred.append(xx)\n",
    "\n",
    "x_pred = np.concatenate(x_pred, 2)\n",
    "\n",
    "npy = np.concatenate([x_true, x_pred], 1)\n",
    "\n",
    "npy_to_gif(npy, \"sample.gif\")"
   ]
  },
  {
   "cell_type": "code",
   "execution_count": null,
   "metadata": {},
   "outputs": [],
   "source": []
  }
 ],
 "metadata": {
  "kernelspec": {
   "display_name": "Python 3",
   "language": "python",
   "name": "python3"
  },
  "language_info": {
   "codemirror_mode": {
    "name": "ipython",
    "version": 3
   },
   "file_extension": ".py",
   "mimetype": "text/x-python",
   "name": "python",
   "nbconvert_exporter": "python",
   "pygments_lexer": "ipython3",
   "version": "3.7.4"
  }
 },
 "nbformat": 4,
 "nbformat_minor": 4
}
