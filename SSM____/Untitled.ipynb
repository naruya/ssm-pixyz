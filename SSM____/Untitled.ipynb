{
 "cells": [
  {
   "cell_type": "code",
   "execution_count": 1,
   "metadata": {},
   "outputs": [
    {
     "name": "stdout",
     "output_type": "stream",
     "text": [
      "Namespace(B=32, T=10, a_dim=4, comment=None, data_dir='~/tensorflow_datasets/', device_ids=[0], epochs=1000, h_dim=1024, log_dir='../runs/Jan04_06-41-49_SSM10_s64ss128', model='SSM10', runs_dir='../runs/', s_dim=[64, 128], seed=0)\n"
     ]
    }
   ],
   "source": [
    "from config import get_args\n",
    "args = get_args(jupyter=True, args=[\"--model\", \"SSM10\", \"--s_dim\", \"64\", \"128\"])\n",
    "print(args)\n",
    "# from model import *\n",
    "# from data_loader import PushDataLoader\n",
    "# from pixyz_utils import load_model"
   ]
  },
  {
   "cell_type": "code",
   "execution_count": 39,
   "metadata": {},
   "outputs": [
    {
     "name": "stdout",
     "output_type": "stream",
     "text": [
      "tensor([-11.5129])\n",
      "tensor([-16.1181])\n",
      "tensor([-103.2789])\n",
      "tensor([-inf])\n"
     ]
    }
   ],
   "source": [
    "import torch\n",
    "\n",
    "print(torch.log(torch.ones(1)*1e-5))\n",
    "print(torch.log(torch.ones(1)*1e-7))\n",
    "print(torch.log(torch.ones(1)*1e-45))\n",
    "print(torch.log(torch.ones(1)*1e-46))"
   ]
  },
  {
   "cell_type": "code",
   "execution_count": 29,
   "metadata": {},
   "outputs": [
    {
     "name": "stdout",
     "output_type": "stream",
     "text": [
      "1e-49\n"
     ]
    }
   ],
   "source": [
    "print(1e-49)"
   ]
  },
  {
   "cell_type": "code",
   "execution_count": 19,
   "metadata": {},
   "outputs": [],
   "source": [
    "from pixyz.distributions import Normal, Bernoulli, Deterministic\n",
    "class Hoge(Normal):\n",
    "    def __init__(self, s_dim, a_dim, aa_dim=None):\n",
    "        print(s_dim, a_dim, aa_dim)\n",
    "        print(str(inspect.signature(self.forward)))\n",
    "    def forward(self, s_prev, a):\n",
    "        pass"
   ]
  },
  {
   "cell_type": "code",
   "execution_count": 26,
   "metadata": {},
   "outputs": [
    {
     "name": "stdout",
     "output_type": "stream",
     "text": [
      "4 3 None\n",
      "(s_prev, a)\n"
     ]
    }
   ],
   "source": [
    "kwargs = {\"a_dim\": 3}\n",
    "hoge = Hoge(s_dim=4, **kwargs)\n",
    "# \"aa\" in hoge.input_var"
   ]
  },
  {
   "cell_type": "code",
   "execution_count": 29,
   "metadata": {},
   "outputs": [
    {
     "name": "stdout",
     "output_type": "stream",
     "text": [
      "0 3 None\n",
      "(s_prev, a)\n"
     ]
    }
   ],
   "source": [
    "args = []\n",
    "hoge = Hoge(0, **kwargs)\n",
    "# \"aa\" in hoge.input_var"
   ]
  },
  {
   "cell_type": "code",
   "execution_count": 8,
   "metadata": {},
   "outputs": [
    {
     "name": "stdout",
     "output_type": "stream",
     "text": [
      "3 4 3\n"
     ]
    }
   ],
   "source": [
    "print(*args)"
   ]
  },
  {
   "cell_type": "code",
   "execution_count": 5,
   "metadata": {},
   "outputs": [
    {
     "data": {
      "text/plain": [
       "'(s_prev, a)'"
      ]
     },
     "execution_count": 5,
     "metadata": {},
     "output_type": "execute_result"
    }
   ],
   "source": [
    "import inspect\n",
    "\n",
    "str(inspect.signature(hoge.forward)) # getfullargspec"
   ]
  },
  {
   "cell_type": "code",
   "execution_count": 36,
   "metadata": {},
   "outputs": [
    {
     "data": {
      "text/plain": [
       "True"
      ]
     },
     "execution_count": 36,
     "metadata": {},
     "output_type": "execute_result"
    }
   ],
   "source": [
    "not None"
   ]
  },
  {
   "cell_type": "code",
   "execution_count": 1,
   "metadata": {},
   "outputs": [],
   "source": [
    "# device = args.device_ids[0]\n",
    "# model = SSM10(args, device)"
   ]
  },
  {
   "cell_type": "code",
   "execution_count": 3,
   "metadata": {},
   "outputs": [],
   "source": [
    "load_model(model, \"v1\", \"Jan04_03-10-29\")"
   ]
  },
  {
   "cell_type": "code",
   "execution_count": 4,
   "metadata": {
    "collapsed": true,
    "jupyter": {
     "outputs_hidden": true
    }
   },
   "outputs": [
    {
     "data": {
      "text/plain": [
       "ModuleList(\n",
       "  (0): Prior(\n",
       "    name=p, distribution_name=Normal,\n",
       "    var=['s'], cond_var=['s_prev', 'a'], input_var=['s_prev', 'a'], features_shape=torch.Size([])\n",
       "    (enc_a): Linear(in_features=4, out_features=64, bias=True)\n",
       "    (fc1): Linear(in_features=128, out_features=128, bias=True)\n",
       "    (fc21): Linear(in_features=128, out_features=64, bias=True)\n",
       "    (fc22): Linear(in_features=128, out_features=64, bias=True)\n",
       "  )\n",
       "  (1): Posterior(\n",
       "    name=p, distribution_name=Normal,\n",
       "    var=['s'], cond_var=['s_prev', 'a', 'h'], input_var=['s_prev', 'a', 'h'], features_shape=torch.Size([])\n",
       "    (enc_a): Linear(in_features=4, out_features=64, bias=True)\n",
       "    (fc1): Linear(in_features=1152, out_features=128, bias=True)\n",
       "    (fc21): Linear(in_features=128, out_features=64, bias=True)\n",
       "    (fc22): Linear(in_features=128, out_features=64, bias=True)\n",
       "  )\n",
       "  (2): Encoder(\n",
       "    name=p, distribution_name=Deterministic,\n",
       "    var=['h'], cond_var=['x'], input_var=['x'], features_shape=torch.Size([])\n",
       "    (conv1): Conv2d(3, 32, kernel_size=(4, 4), stride=(2, 2))\n",
       "    (conv2): Conv2d(32, 64, kernel_size=(4, 4), stride=(2, 2))\n",
       "    (conv3): Conv2d(64, 128, kernel_size=(4, 4), stride=(2, 2))\n",
       "    (conv4): Conv2d(128, 256, kernel_size=(4, 4), stride=(2, 2))\n",
       "  )\n",
       "  (3): Decoder(\n",
       "    name=p, distribution_name=Normal,\n",
       "    var=['x'], cond_var=['s'], input_var=['s'], features_shape=torch.Size([])\n",
       "    (fc): Linear(in_features=64, out_features=1024, bias=True)\n",
       "    (conv1): ConvTranspose2d(1024, 128, kernel_size=(5, 5), stride=(2, 2))\n",
       "    (conv2): ConvTranspose2d(128, 64, kernel_size=(5, 5), stride=(2, 2))\n",
       "    (conv3): ConvTranspose2d(64, 32, kernel_size=(6, 6), stride=(2, 2))\n",
       "    (conv4): ConvTranspose2d(32, 3, kernel_size=(6, 6), stride=(2, 2))\n",
       "  )\n",
       "  (4): Prior(\n",
       "    name=p, distribution_name=Normal,\n",
       "    var=['s'], cond_var=['s_prev', 'a'], input_var=['s_prev', 'a'], features_shape=torch.Size([])\n",
       "    (enc_a): Linear(in_features=4, out_features=1024, bias=True)\n",
       "    (fc1): Linear(in_features=2048, out_features=2048, bias=True)\n",
       "    (fc21): Linear(in_features=2048, out_features=1024, bias=True)\n",
       "    (fc22): Linear(in_features=2048, out_features=1024, bias=True)\n",
       "  )\n",
       "  (5): Posterior(\n",
       "    name=p, distribution_name=Normal,\n",
       "    var=['s'], cond_var=['s_prev', 'a', 'h'], input_var=['s_prev', 'a', 'h'], features_shape=torch.Size([])\n",
       "    (enc_a): Linear(in_features=4, out_features=1024, bias=True)\n",
       "    (fc1): Linear(in_features=3072, out_features=2048, bias=True)\n",
       "    (fc21): Linear(in_features=2048, out_features=1024, bias=True)\n",
       "    (fc22): Linear(in_features=2048, out_features=1024, bias=True)\n",
       "  )\n",
       "  (6): Encoder(\n",
       "    name=p, distribution_name=Deterministic,\n",
       "    var=['h'], cond_var=['x'], input_var=['x'], features_shape=torch.Size([])\n",
       "    (conv1): Conv2d(3, 32, kernel_size=(4, 4), stride=(2, 2))\n",
       "    (conv2): Conv2d(32, 64, kernel_size=(4, 4), stride=(2, 2))\n",
       "    (conv3): Conv2d(64, 128, kernel_size=(4, 4), stride=(2, 2))\n",
       "    (conv4): Conv2d(128, 256, kernel_size=(4, 4), stride=(2, 2))\n",
       "  )\n",
       "  (7): Decoder(\n",
       "    name=p, distribution_name=Normal,\n",
       "    var=['x'], cond_var=['s'], input_var=['s'], features_shape=torch.Size([])\n",
       "    (fc): Linear(in_features=1024, out_features=1024, bias=True)\n",
       "    (conv1): ConvTranspose2d(1024, 128, kernel_size=(5, 5), stride=(2, 2))\n",
       "    (conv2): ConvTranspose2d(128, 64, kernel_size=(5, 5), stride=(2, 2))\n",
       "    (conv3): ConvTranspose2d(64, 32, kernel_size=(6, 6), stride=(2, 2))\n",
       "    (conv4): ConvTranspose2d(32, 3, kernel_size=(6, 6), stride=(2, 2))\n",
       "  )\n",
       "  (8): DecoderEnsemble(\n",
       "    name=p, distribution_name=Normal,\n",
       "    var=['x'], cond_var=['s', 'ss'], input_var=['s', 'ss'], features_shape=torch.Size([])\n",
       "    (fc1): Linear(in_features=64, out_features=1024, bias=True)\n",
       "    (fc2): Linear(in_features=1024, out_features=1024, bias=True)\n",
       "    (conv1): ConvTranspose2d(2048, 128, kernel_size=(5, 5), stride=(2, 2))\n",
       "    (conv2): ConvTranspose2d(128, 64, kernel_size=(5, 5), stride=(2, 2))\n",
       "    (conv3): ConvTranspose2d(64, 32, kernel_size=(6, 6), stride=(2, 2))\n",
       "    (conv4): ConvTranspose2d(32, 3, kernel_size=(6, 6), stride=(2, 2))\n",
       "  )\n",
       ")"
      ]
     },
     "execution_count": 4,
     "metadata": {},
     "output_type": "execute_result"
    }
   ],
   "source": [
    "model.distributions.train()"
   ]
  },
  {
   "cell_type": "code",
   "execution_count": 5,
   "metadata": {},
   "outputs": [],
   "source": [
    "test_loader = PushDataLoader(\"test\", args)"
   ]
  },
  {
   "cell_type": "code",
   "execution_count": 4,
   "metadata": {},
   "outputs": [
    {
     "data": {
      "text/plain": [
       "3"
      ]
     },
     "execution_count": 4,
     "metadata": {},
     "output_type": "execute_result"
    }
   ],
   "source": [
    "def hoge(a,b):\n",
    "    return a + b\n",
    "\n",
    "c = [1,2]\n",
    "hoge(*c)"
   ]
  },
  {
   "cell_type": "code",
   "execution_count": 6,
   "metadata": {},
   "outputs": [
    {
     "ename": "AssertionError",
     "evalue": "",
     "output_type": "error",
     "traceback": [
      "\u001b[0;31m---------------------------------------------------------------------------\u001b[0m",
      "\u001b[0;31mAssertionError\u001b[0m                            Traceback (most recent call last)",
      "\u001b[0;32m<ipython-input-6-a871fdc9ebee>\u001b[0m in \u001b[0;36m<module>\u001b[0;34m\u001b[0m\n\u001b[0;32m----> 1\u001b[0;31m \u001b[0;32massert\u001b[0m \u001b[0;32mFalse\u001b[0m\u001b[0;34m\u001b[0m\u001b[0;34m\u001b[0m\u001b[0m\n\u001b[0m",
      "\u001b[0;31mAssertionError\u001b[0m: "
     ]
    }
   ],
   "source": [
    "assert False"
   ]
  },
  {
   "cell_type": "code",
   "execution_count": 7,
   "metadata": {},
   "outputs": [
    {
     "name": "stdout",
     "output_type": "stream",
     "text": [
      "[0.0, 0.0, 0.0]\n",
      "[10.0, 0.0, 0.0]\n"
     ]
    }
   ],
   "source": [
    "a = [0.0] * 3\n",
    "print(a)\n",
    "a[0] += 10\n",
    "print(a)"
   ]
  },
  {
   "cell_type": "code",
   "execution_count": 13,
   "metadata": {},
   "outputs": [
    {
     "data": {
      "text/plain": [
       "[[1, 1, 1], [], []]"
      ]
     },
     "execution_count": 13,
     "metadata": {},
     "output_type": "execute_result"
    }
   ],
   "source": [
    "a = [[] for _ in range(3)]\n",
    "a[0].append(1)\n",
    "a[0].append(1)\n",
    "a[0].append(1)\n",
    "a"
   ]
  },
  {
   "cell_type": "code",
   "execution_count": 20,
   "metadata": {},
   "outputs": [
    {
     "ename": "AssertionError",
     "evalue": "[0, 1, [[1, 1, 1], [], []]]",
     "output_type": "error",
     "traceback": [
      "\u001b[0;31m---------------------------------------------------------------------------\u001b[0m",
      "\u001b[0;31mAssertionError\u001b[0m                            Traceback (most recent call last)",
      "\u001b[0;32m<ipython-input-20-5581e21e759c>\u001b[0m in \u001b[0;36m<module>\u001b[0;34m\u001b[0m\n\u001b[0;32m----> 1\u001b[0;31m \u001b[0;32massert\u001b[0m \u001b[0;32mFalse\u001b[0m\u001b[0;34m,\u001b[0m \u001b[0;34m[\u001b[0m\u001b[0;36m0\u001b[0m\u001b[0;34m,\u001b[0m\u001b[0;36m1\u001b[0m\u001b[0;34m,\u001b[0m \u001b[0ma\u001b[0m\u001b[0;34m]\u001b[0m\u001b[0;34m\u001b[0m\u001b[0;34m\u001b[0m\u001b[0m\n\u001b[0m",
      "\u001b[0;31mAssertionError\u001b[0m: [0, 1, [[1, 1, 1], [], []]]"
     ]
    }
   ],
   "source": [
    "assert False, [0,1, a]"
   ]
  },
  {
   "cell_type": "code",
   "execution_count": 23,
   "metadata": {},
   "outputs": [
    {
     "data": {
      "text/plain": [
       "['loss',\n",
       " 's_loss[0]',\n",
       " 'x_loss[0]',\n",
       " 's_loss[1]',\n",
       " 'x_loss[1]',\n",
       " 's_loss[2]',\n",
       " 'x_loss[2]']"
      ]
     },
     "execution_count": 23,
     "metadata": {},
     "output_type": "execute_result"
    }
   ],
   "source": [
    "keys = [\"loss\"]\n",
    "for i in range(3):\n",
    "    keys.append(\"s_loss[{}]\".format(i))\n",
    "    keys.append(\"x_loss[{}]\".format(i))\n",
    "keys"
   ]
  },
  {
   "cell_type": "code",
   "execution_count": 27,
   "metadata": {},
   "outputs": [
    {
     "data": {
      "text/plain": [
       "{'loss': 0.0,\n",
       " 's_loss[0]': 0.0,\n",
       " 'x_loss[0]': 0.0,\n",
       " 's_loss[1]': 0.0,\n",
       " 'x_loss[1]': 0.0,\n",
       " 's_loss[2]': 0.0,\n",
       " 'x_loss[2]': 0.0}"
      ]
     },
     "execution_count": 27,
     "metadata": {},
     "output_type": "execute_result"
    }
   ],
   "source": [
    "summ = dict(zip(keys, [0.] * len(keys)))\n",
    "summ"
   ]
  },
  {
   "cell_type": "code",
   "execution_count": 39,
   "metadata": {},
   "outputs": [
    {
     "ename": "TypeError",
     "evalue": "'int' object is not iterable",
     "output_type": "error",
     "traceback": [
      "\u001b[0;31m---------------------------------------------------------------------------\u001b[0m",
      "\u001b[0;31mTypeError\u001b[0m                                 Traceback (most recent call last)",
      "\u001b[0;32m<ipython-input-39-7fe9247b2732>\u001b[0m in \u001b[0;36m<module>\u001b[0;34m\u001b[0m\n\u001b[0;32m----> 1\u001b[0;31m \u001b[0;32mfor\u001b[0m \u001b[0mi\u001b[0m\u001b[0;34m,\u001b[0m \u001b[0ms_dim\u001b[0m \u001b[0;32min\u001b[0m \u001b[0menumerate\u001b[0m\u001b[0;34m(\u001b[0m\u001b[0;36m4\u001b[0m\u001b[0;34m)\u001b[0m\u001b[0;34m:\u001b[0m\u001b[0;34m\u001b[0m\u001b[0;34m\u001b[0m\u001b[0m\n\u001b[0m\u001b[1;32m      2\u001b[0m     \u001b[0mprint\u001b[0m\u001b[0;34m(\u001b[0m\u001b[0mi\u001b[0m\u001b[0;34m,\u001b[0m \u001b[0ms_dim\u001b[0m\u001b[0;34m)\u001b[0m\u001b[0;34m\u001b[0m\u001b[0;34m\u001b[0m\u001b[0m\n",
      "\u001b[0;31mTypeError\u001b[0m: 'int' object is not iterable"
     ]
    }
   ],
   "source": [
    "for i, s_dim in enumerate(4):\n",
    "    print(i, s_dim)"
   ]
  },
  {
   "cell_type": "code",
   "execution_count": 38,
   "metadata": {},
   "outputs": [
    {
     "name": "stderr",
     "output_type": "stream",
     "text": [
      "  0%|          | 0/100 [00:00<?, ?it/s]\n"
     ]
    },
    {
     "name": "stdout",
     "output_type": "stream",
     "text": [
      "aaa\n"
     ]
    }
   ],
   "source": [
    "from tqdm import tqdm\n",
    "for i in tqdm(range(100)):\n",
    "    if i > 98:\n",
    "        break\n",
    "import time\n",
    "time.sleep(0.2)\n",
    "print(\"aaa\")"
   ]
  },
  {
   "cell_type": "code",
   "execution_count": 6,
   "metadata": {},
   "outputs": [],
   "source": [
    "for batch in test_loader:\n",
    "    break"
   ]
  },
  {
   "cell_type": "code",
   "execution_count": 26,
   "metadata": {},
   "outputs": [],
   "source": [
    "def _sample_video(sample_s0, prior, decoder, device, name, batch, encoder): ######caution!!! encoder\n",
    "    with torch.no_grad():\n",
    "        x, a, _ = batch\n",
    "        x = x.to(device).transpose(0, 1)  # TxB\n",
    "        a = a.to(device).transpose(0, 1)  # TxB\n",
    "        _T, _B = a.size(0), a.size(1)\n",
    "        x0 = x[0].clone()\n",
    "        if name in [\"SSM7\", \"SSM8\", \"SSM9\", \"SSM10\"]:  # ensemble\n",
    "            s_prev = sample_s0[0](x0)\n",
    "            ss_prev = sample_s0[1](x0)\n",
    "        else:\n",
    "            s_prev = sample_s0(x0)\n",
    "        _x = []\n",
    "        for t in range(_T):\n",
    "            if name in [\"SSM7\", \"SSM8\", \"SSM9\", \"SSM10\"]:\n",
    "                s = prior[0].sample_mean({\"s_prev\": s_prev, \"a\": a[t]})\n",
    "                ss = prior[1].sample_mean({\"s_prev\": ss_prev, \"a\": a[t]})\n",
    "                frame = decoder.sample_mean({\"s\": s, \"ss\": ss})\n",
    "                s_prev = s\n",
    "                ss_prev = ss\n",
    "            else:\n",
    "                h = encoder.sample({\"x\": x[t]}, return_all=False)[\"h\"]\n",
    "                s = prior.sample_mean({\"s_prev\": s_prev, \"a\": a[t], \"h\": h})\n",
    "                frame = decoder.sample_mean({\"s\": s})\n",
    "                s_prev = s\n",
    "            _x.append(frame)\n",
    "        _x = torch.stack(_x).transpose(0, 1)  # BxT\n",
    "        _x = torch.clamp(_x, 0, 1)\n",
    "        x = x.transpose(0, 1)  # BxT\n",
    "        video = []\n",
    "        for i in range(4):\n",
    "            video.append(x[i*8:i*8+8])\n",
    "            video.append(_x[i*8:i*8+8])\n",
    "        video = torch.cat(video)  # B*2xT\n",
    "        return video"
   ]
  },
  {
   "cell_type": "code",
   "execution_count": 8,
   "metadata": {},
   "outputs": [
    {
     "data": {
      "text/plain": [
       "112914.432"
      ]
     },
     "execution_count": 8,
     "metadata": {},
     "output_type": "execute_result"
    }
   ],
   "source": [
    "0.9189 * 10 * 64 * 64 * 3"
   ]
  },
  {
   "cell_type": "code",
   "execution_count": 23,
   "metadata": {},
   "outputs": [
    {
     "data": {
      "text/plain": [
       "tensor(1125.5688, device='cuda:0')"
      ]
     },
     "execution_count": 23,
     "metadata": {},
     "output_type": "execute_result"
    }
   ],
   "source": [
    "torch.sum((video[:8] - video[8:16])**2) / 8 / 2"
   ]
  },
  {
   "cell_type": "code",
   "execution_count": 22,
   "metadata": {},
   "outputs": [
    {
     "name": "stdout",
     "output_type": "stream",
     "text": [
      "tensor(0., device='cuda:0') tensor(1., device='cuda:0')\n",
      "tensor(114040., device='cuda:0')\n",
      "tensor(114044.7344, device='cuda:0')\n",
      "tensor(4.7344, device='cuda:0')\n",
      "tensor(0.0004, device='cuda:0')\n"
     ]
    }
   ],
   "source": [
    "# clampあり\n",
    "video = _sample_video(model.sample_s0, model.prior_s,\n",
    "                      model.decoder_s, model.device,\n",
    "                      \"SSM\", batch)\n",
    "print(video.min(), video.max())\n",
    "b = torch.sum((video[:8] - video[8:16])**2) / 8 / 2 + 112914.432\n",
    "print(b)\n",
    "m = torch.distributions.normal.Normal(video[:8], 1.0)\n",
    "a = - torch.sum(m.log_prob(video[8:16])) / 8\n",
    "print(a)\n",
    "print(a - b)\n",
    "print((a - b) / 64 / 64 / 3)"
   ]
  },
  {
   "cell_type": "code",
   "execution_count": 14,
   "metadata": {},
   "outputs": [
    {
     "name": "stdout",
     "output_type": "stream",
     "text": [
      "tensor(-0.3358, device='cuda:0') tensor(1.3729, device='cuda:0')\n",
      "tensor(114036.7266, device='cuda:0')\n",
      "tensor(114041.4609, device='cuda:0')\n",
      "tensor(4.7344, device='cuda:0')\n",
      "tensor(0.0004, device='cuda:0')\n"
     ]
    }
   ],
   "source": [
    "# clampなし\n",
    "video = _sample_video(model.sample_s0, model.prior_s,\n",
    "                      model.decoder_s, model.device,\n",
    "                      \"SSM\", batch)\n",
    "print(video.min(), video.max())\n",
    "b = torch.sum((video[:8] - video[8:16])**2) / 8 / 2 + 112914.432\n",
    "print(b)\n",
    "m = torch.distributions.normal.Normal(video[:8], 1.0)\n",
    "a = - torch.sum(m.log_prob(video[8:16])) / 8\n",
    "print(a)\n",
    "print(a - b)\n",
    "print((a - b) / 64 / 64 / 3)"
   ]
  },
  {
   "cell_type": "code",
   "execution_count": 27,
   "metadata": {},
   "outputs": [
    {
     "name": "stdout",
     "output_type": "stream",
     "text": [
      "tensor(0., device='cuda:0') tensor(1., device='cuda:0')\n",
      "tensor(113361.9922, device='cuda:0')\n",
      "tensor(113366.7344, device='cuda:0')\n",
      "tensor(4.7422, device='cuda:0')\n",
      "tensor(0.0004, device='cuda:0')\n"
     ]
    }
   ],
   "source": [
    "# clampあり\n",
    "video = _sample_video(model.sample_ss0, model.posterior_ss, ################ caution!!!!! prior -> posterior\n",
    "                      model.decoder_ss, model.device,\n",
    "                      \"SSM\", batch, model.encoder_ss)\n",
    "print(video.min(), video.max())\n",
    "b = torch.sum((video[:8] - video[8:16])**2) / 8 / 2 + 112914.432\n",
    "print(b)\n",
    "m = torch.distributions.normal.Normal(video[:8], 1.0)\n",
    "a = - torch.sum(m.log_prob(video[8:16])) / 8\n",
    "print(a)\n",
    "print(a - b)\n",
    "print((a - b) / 64 / 64 / 3)"
   ]
  },
  {
   "cell_type": "code",
   "execution_count": 18,
   "metadata": {},
   "outputs": [
    {
     "name": "stdout",
     "output_type": "stream",
     "text": [
      "tensor(-13.2436, device='cuda:0') tensor(10.1785, device='cuda:0')\n",
      "tensor(289636.7812, device='cuda:0')\n",
      "tensor(289641.5000, device='cuda:0')\n",
      "tensor(4.7188, device='cuda:0')\n",
      "tensor(0.0004, device='cuda:0')\n"
     ]
    }
   ],
   "source": [
    "# clampなし\n",
    "video = _sample_video(model.sample_ss0, model.prior_ss,\n",
    "                      model.decoder_ss, model.device,\n",
    "                      \"SSM\", batch)\n",
    "print(video.min(), video.max())\n",
    "b = torch.sum((video[:8] - video[8:16])**2) / 8 / 2 + 112914.432\n",
    "print(b)\n",
    "m = torch.distributions.normal.Normal(video[:8], 1.0)\n",
    "a = - torch.sum(m.log_prob(video[8:16])) / 8\n",
    "print(a)\n",
    "print(a - b)\n",
    "print((a - b) / 64 / 64 / 3)"
   ]
  },
  {
   "cell_type": "code",
   "execution_count": 148,
   "metadata": {},
   "outputs": [
    {
     "data": {
      "text/plain": [
       "tensor(158715.6250, device='cuda:0')"
      ]
     },
     "execution_count": 148,
     "metadata": {},
     "output_type": "execute_result"
    }
   ],
   "source": [
    "m = torch.distributions.normal.Normal(video[10], 1.0)\n",
    "a = - torch.sum(m.log_prob(video[2]))\n",
    "a"
   ]
  },
  {
   "cell_type": "code",
   "execution_count": null,
   "metadata": {},
   "outputs": [],
   "source": []
  },
  {
   "cell_type": "code",
   "execution_count": 28,
   "metadata": {},
   "outputs": [],
   "source": [
    "video = video.cpu().numpy()"
   ]
  },
  {
   "cell_type": "code",
   "execution_count": 17,
   "metadata": {},
   "outputs": [
    {
     "name": "stdout",
     "output_type": "stream",
     "text": [
      "(64, 10, 3, 64, 64)\n"
     ]
    }
   ],
   "source": [
    "print(video.shape)"
   ]
  },
  {
   "cell_type": "code",
   "execution_count": 29,
   "metadata": {},
   "outputs": [
    {
     "data": {
      "image/png": "[encoded data removed]",
      "text/plain": [
       "<Figure size 432x288 with 1 Axes>"
      ]
     },
     "metadata": {
      "needs_background": "light"
     },
     "output_type": "display_data"
    }
   ],
   "source": [
    "import matplotlib.pyplot as plt\n",
    "plt.imshow(video[10,0].transpose(1,2,0))\n",
    "plt.show()"
   ]
  },
  {
   "cell_type": "code",
   "execution_count": 18,
   "metadata": {},
   "outputs": [
    {
     "data": {
      "text/plain": [
       "1.0"
      ]
     },
     "execution_count": 18,
     "metadata": {},
     "output_type": "execute_result"
    }
   ],
   "source": [
    "video[8:16].max()"
   ]
  },
  {
   "cell_type": "code",
   "execution_count": 199,
   "metadata": {},
   "outputs": [
    {
     "data": {
      "text/plain": [
       "tensor([-0.9189])"
      ]
     },
     "execution_count": 199,
     "metadata": {},
     "output_type": "execute_result"
    }
   ],
   "source": [
    "torch.log((1.0/((2 * 3.141592)**0.5 * torch.ones(1))))"
   ]
  },
  {
   "cell_type": "code",
   "execution_count": 201,
   "metadata": {},
   "outputs": [
    {
     "data": {
      "text/plain": [
       "112914.432"
      ]
     },
     "execution_count": 201,
     "metadata": {},
     "output_type": "execute_result"
    }
   ],
   "source": [
    "0.9189 * 10 * 64 * 64 * 3"
   ]
  },
  {
   "cell_type": "code",
   "execution_count": null,
   "metadata": {},
   "outputs": [],
   "source": []
  },
  {
   "cell_type": "code",
   "execution_count": null,
   "metadata": {},
   "outputs": [],
   "source": []
  }
 ],
 "metadata": {
  "kernelspec": {
   "display_name": "Python 3",
   "language": "python",
   "name": "python3"
  },
  "language_info": {
   "codemirror_mode": {
    "name": "ipython",
    "version": 3
   },
   "file_extension": ".py",
   "mimetype": "text/x-python",
   "name": "python",
   "nbconvert_exporter": "python",
   "pygments_lexer": "ipython3",
   "version": "3.7.4"
  }
 },
 "nbformat": 4,
 "nbformat_minor": 4
}
